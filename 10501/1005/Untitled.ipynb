{
 "cells": [
  {
   "cell_type": "code",
   "execution_count": 1,
   "metadata": {
    "collapsed": true
   },
   "outputs": [],
   "source": [
    "import numpy as np\n",
    "from math import *"
   ]
  },
  {
   "cell_type": "code",
   "execution_count": 9,
   "metadata": {
    "collapsed": true
   },
   "outputs": [],
   "source": [
    "\n",
    "def serise(eps = 1e-10):\n",
    "    k1 = 1./1**3\n",
    "    k2 = k1+1./2**3\n",
    "    k = 2\n",
    "    while abs(k2-k1) > eps:\n",
    "        k1 = k2\n",
    "        for i in range(k+1, 2*k+1):\n",
    "            k2 = k2 + 1./i**3\n",
    "        k = 2*k\n",
    "    return k2\n",
    "\n",
    "def my_serise(func, eps=1e-10):\n",
    "    k1 = func(1)\n",
    "    k2 = k1 + func(2)\n",
    "    k = 2\n",
    "    while abs(k2-k1) > eps:\n",
    "        k1 = k2\n",
    "        for i in range(k+1, 2*k+1):\n",
    "            k2 = k2 + func(i)\n",
    "        k = 2*k\n",
    "    return k2"
   ]
  },
  {
   "cell_type": "code",
   "execution_count": 23,
   "metadata": {
    "collapsed": false
   },
   "outputs": [
    {
     "name": "stdout",
     "output_type": "stream",
     "text": [
      "1.20205690313\n",
      "0.333333333333\n",
      "1.20205690313\n"
     ]
    }
   ],
   "source": [
    "print serise()\n",
    "\n",
    "def my_func(x):\n",
    "    return 1./x**3\n",
    "\n",
    "def my_func2(x):\n",
    "    return (1./x)*pow(-1, x+1)\n",
    "\n",
    "print my_func2(3)\n",
    "print my_serise(my_func)"
   ]
  },
  {
   "cell_type": "code",
   "execution_count": null,
   "metadata": {
    "collapsed": true
   },
   "outputs": [],
   "source": []
  }
 ],
 "metadata": {
  "kernelspec": {
   "display_name": "Python 2",
   "language": "python",
   "name": "python2"
  },
  "language_info": {
   "codemirror_mode": {
    "name": "ipython",
    "version": 2
   },
   "file_extension": ".py",
   "mimetype": "text/x-python",
   "name": "python",
   "nbconvert_exporter": "python",
   "pygments_lexer": "ipython2",
   "version": "2.7.12"
  },
  "widgets": {
   "state": {},
   "version": "1.1.2"
  }
 },
 "nbformat": 4,
 "nbformat_minor": 0
}
